{
 "cells": [
  {
   "cell_type": "markdown",
   "id": "f76bff79",
   "metadata": {},
   "source": [
    "### Authors:\n",
    "#### Danila Rozhevskii, Jiachen Li"
   ]
  },
  {
   "cell_type": "markdown",
   "id": "dfa73d32",
   "metadata": {},
   "source": [
    "### PyTorch Tensors"
   ]
  },
  {
   "cell_type": "markdown",
   "id": "9b357941",
   "metadata": {},
   "source": [
    "Reference to guide: https://towardsdatascience.com/pytorch-for-deep-learning-a-quick-guide-for-starters-5b60d2dbb564"
   ]
  },
  {
   "cell_type": "code",
   "execution_count": 51,
   "id": "a92f43a0",
   "metadata": {},
   "outputs": [],
   "source": [
    "import numpy as np\n",
    "import torch"
   ]
  },
  {
   "cell_type": "markdown",
   "id": "42dca17c",
   "metadata": {},
   "source": [
    "##### Create a (2D) tensor of size 9 filled with the values 1.0"
   ]
  },
  {
   "cell_type": "code",
   "execution_count": 52,
   "id": "1a50e33d",
   "metadata": {},
   "outputs": [
    {
     "data": {
      "text/plain": [
       "tensor([[1., 1., 1.],\n",
       "        [1., 1., 1.],\n",
       "        [1., 1., 1.]])"
      ]
     },
     "execution_count": 52,
     "metadata": {},
     "output_type": "execute_result"
    }
   ],
   "source": [
    "# could also put zeros() or randn()\n",
    "t = torch.ones(3,3)\n",
    "t"
   ]
  },
  {
   "cell_type": "code",
   "execution_count": 53,
   "id": "a4950f77",
   "metadata": {},
   "outputs": [
    {
     "data": {
      "text/plain": [
       "tensor([[0., 0., 0.],\n",
       "        [0., 0., 0.],\n",
       "        [0., 0., 0.]])"
      ]
     },
     "execution_count": 53,
     "metadata": {},
     "output_type": "execute_result"
    }
   ],
   "source": [
    "t = torch.zeros(3,3)\n",
    "t"
   ]
  },
  {
   "cell_type": "markdown",
   "id": "0dba8f1d",
   "metadata": {},
   "source": [
    "##### Type and Size"
   ]
  },
  {
   "cell_type": "code",
   "execution_count": 54,
   "id": "47b2c2e3",
   "metadata": {},
   "outputs": [
    {
     "data": {
      "text/plain": [
       "tensor([[1., 2., 3.],\n",
       "        [4., 5., 6.]], dtype=torch.float64)"
      ]
     },
     "execution_count": 54,
     "metadata": {},
     "output_type": "execute_result"
    }
   ],
   "source": [
    "t = torch.tensor([[1,2,3],[4,5,6]], dtype = float)\n",
    "t"
   ]
  },
  {
   "cell_type": "markdown",
   "id": "9e873e71",
   "metadata": {},
   "source": [
    "##### Useful functions"
   ]
  },
  {
   "cell_type": "code",
   "execution_count": 55,
   "id": "c63c0aa7",
   "metadata": {},
   "outputs": [
    {
     "data": {
      "text/plain": [
       "tensor([[ 0.1122, -0.3365],\n",
       "        [-0.2093, -0.1681]])"
      ]
     },
     "execution_count": 55,
     "metadata": {},
     "output_type": "execute_result"
    }
   ],
   "source": [
    "t = torch.randn(2,2)\n",
    "t"
   ]
  },
  {
   "cell_type": "code",
   "execution_count": 56,
   "id": "2d408e43",
   "metadata": {},
   "outputs": [
    {
     "data": {
      "text/plain": [
       "tensor(0.1122)"
      ]
     },
     "execution_count": 56,
     "metadata": {},
     "output_type": "execute_result"
    }
   ],
   "source": [
    "t.max()"
   ]
  },
  {
   "cell_type": "code",
   "execution_count": 57,
   "id": "bdb8ca30",
   "metadata": {},
   "outputs": [
    {
     "data": {
      "text/plain": [
       "0.11220938712358475"
      ]
     },
     "execution_count": 57,
     "metadata": {},
     "output_type": "execute_result"
    }
   ],
   "source": [
    "# item() extracts a standard Python value from a 1D tensor.\n",
    "t.max().item()"
   ]
  },
  {
   "cell_type": "markdown",
   "id": "0b7f6373",
   "metadata": {},
   "source": [
    "Converting between tensors and Numpy is very simple using torch.from_numpy & torch.numpy()."
   ]
  },
  {
   "cell_type": "code",
   "execution_count": 58,
   "id": "b8edaf3d",
   "metadata": {},
   "outputs": [
    {
     "data": {
      "text/plain": [
       "tensor([-1.9984, -0.5362, -0.1124, -0.6235,  0.3100,  1.0659, -1.6418,  0.2594,\n",
       "        -0.6615])"
      ]
     },
     "execution_count": 58,
     "metadata": {},
     "output_type": "execute_result"
    }
   ],
   "source": [
    "flat_t = torch.randn(9)\n",
    "flat_t"
   ]
  },
  {
   "cell_type": "code",
   "execution_count": 59,
   "id": "60397058",
   "metadata": {},
   "outputs": [
    {
     "data": {
      "text/plain": [
       "tensor([[-1.9984, -0.5362, -0.1124],\n",
       "        [-0.6235,  0.3100,  1.0659],\n",
       "        [-1.6418,  0.2594, -0.6615]])"
      ]
     },
     "execution_count": 59,
     "metadata": {},
     "output_type": "execute_result"
    }
   ],
   "source": [
    "# Tensor.reshape() will work on any tensor and can make a clone if it is needed.\n",
    "reshape_t = flat_t.reshape(3,3)\n",
    "reshape_t"
   ]
  },
  {
   "cell_type": "code",
   "execution_count": 60,
   "id": "27516309",
   "metadata": {
    "scrolled": true
   },
   "outputs": [
    {
     "data": {
      "text/plain": [
       "tensor([[-1.9984, -0.5362, -0.1124],\n",
       "        [-0.6235,  0.3100,  1.0659],\n",
       "        [-1.6418,  0.2594, -0.6615]])"
      ]
     },
     "execution_count": 60,
     "metadata": {},
     "output_type": "execute_result"
    }
   ],
   "source": [
    "# works only on contiguous tensors and will never copy memory. It will raise an error on a non-contiguous tensor. \n",
    "# But you can make the tensor contiguous by calling contiguous() and then you can call view()\n",
    "view_t = flat_t.view(3,3)\n",
    "view_t"
   ]
  },
  {
   "cell_type": "markdown",
   "id": "b84d76e1",
   "metadata": {},
   "source": [
    "### Simple NN Classification Model"
   ]
  },
  {
   "cell_type": "markdown",
   "id": "ea66ce30",
   "metadata": {},
   "source": [
    "Reference for the model: \n",
    "https://analyticsindiamag.com/step-by-step-guide-to-build-a-simple-neural-network-in-pytorch-from-scratch/"
   ]
  },
  {
   "cell_type": "markdown",
   "id": "8873cdba",
   "metadata": {},
   "source": [
    "##### Create a dataset using make_classification under sklearn.datasets which we use in making a classification data set"
   ]
  },
  {
   "cell_type": "code",
   "execution_count": 61,
   "id": "b26bd92c",
   "metadata": {},
   "outputs": [],
   "source": [
    "from sklearn.datasets import make_classification\n",
    "X, Y = make_classification(\n",
    "    n_features=4, n_redundant=0, n_informative=3, n_clusters_per_class=2, n_classes=3\n",
    ")"
   ]
  },
  {
   "cell_type": "markdown",
   "id": "9e8a6a74",
   "metadata": {},
   "source": [
    "##### Let’s visualize the dataset"
   ]
  },
  {
   "cell_type": "code",
   "execution_count": 62,
   "id": "f4ad3791",
   "metadata": {},
   "outputs": [
    {
     "data": {
      "text/plain": [
       "<matplotlib.collections.PathCollection at 0x1d2fee78ca0>"
      ]
     },
     "execution_count": 62,
     "metadata": {},
     "output_type": "execute_result"
    },
    {
     "data": {
      "image/png": "[encoded data removed]",
      "text/plain": [
       "<Figure size 432x288 with 1 Axes>"
      ]
     },
     "metadata": {
      "needs_background": "light"
     },
     "output_type": "display_data"
    }
   ],
   "source": [
    "import matplotlib.pyplot as plt\n",
    "plt.title(\"Multi-class data, 4 informative features, 3 classes\", fontsize=\"large\")\n",
    "plt.scatter(X[:, 0], X[:, 1], marker=\"o\", c=Y, s=25, edgecolor=\"k\")"
   ]
  },
  {
   "cell_type": "markdown",
   "id": "c0c11a4c",
   "metadata": {},
   "source": [
    "##### Before defining model, we split our dataset into tests and train sets"
   ]
  },
  {
   "cell_type": "code",
   "execution_count": 63,
   "id": "dbdfd247",
   "metadata": {},
   "outputs": [],
   "source": [
    "from sklearn.model_selection import train_test_split\n",
    "X_train, X_test, Y_train, Y_test = train_test_split(X, Y, test_size=0.33, random_state=42)"
   ]
  },
  {
   "cell_type": "code",
   "execution_count": 64,
   "id": "6268216c",
   "metadata": {},
   "outputs": [
    {
     "data": {
      "text/plain": [
       "((67, 4), (33, 4), (67,), (33,))"
      ]
     },
     "execution_count": 64,
     "metadata": {},
     "output_type": "execute_result"
    }
   ],
   "source": [
    "X_train.shape, X_test.shape, Y_train.shape, Y_test.shape"
   ]
  },
  {
   "cell_type": "markdown",
   "id": "e8ab48d4",
   "metadata": {},
   "source": [
    "##### Define the train data as a PyTorch tensor"
   ]
  },
  {
   "cell_type": "code",
   "execution_count": 65,
   "id": "fbef8cf4",
   "metadata": {},
   "outputs": [],
   "source": [
    "import torch\n",
    "Y_test = torch.from_numpy(X_test)\n",
    "Y_test = torch.from_numpy(np.asarray(Y_test))"
   ]
  },
  {
   "cell_type": "markdown",
   "id": "a49d4f0b",
   "metadata": {},
   "source": [
    "##### To use the batches of the dataset we are required to put the data through the Dataloader module of PyTorch"
   ]
  },
  {
   "cell_type": "code",
   "execution_count": 66,
   "id": "ec9aa0d2",
   "metadata": {},
   "outputs": [],
   "source": [
    "from torch.utils.data import Dataset, DataLoader\n",
    "class Data(Dataset):\n",
    "    def __init__(self):\n",
    "        self.X=torch.from_numpy(X_train)\n",
    "        self.Y=torch.from_numpy(Y_train)\n",
    "        self.len=self.X.shape[0]\n",
    "    def __getitem__(self,index):      \n",
    "        return self.X[index], self.Y[index]\n",
    "    def __len__(self):\n",
    "        return self.len\n",
    "data=Data()\n",
    "loader=DataLoader(dataset=data,batch_size=64)"
   ]
  },
  {
   "cell_type": "markdown",
   "id": "b3e29a29",
   "metadata": {},
   "source": [
    "##### Check the shape of the split dataset"
   ]
  },
  {
   "cell_type": "code",
   "execution_count": 67,
   "id": "b2301505",
   "metadata": {},
   "outputs": [
    {
     "name": "stdout",
     "output_type": "stream",
     "text": [
      "tensor([[ 1.8296,  0.4330,  1.4966, -0.9681],\n",
      "        [ 1.1589, -1.3114, -0.7350,  0.2567],\n",
      "        [-0.4399,  2.5494, -1.7501,  1.4258],\n",
      "        [ 1.6509,  1.4715, -2.1925,  0.5944],\n",
      "        [-0.4023,  1.8269,  0.6780, -0.0688]], dtype=torch.float64)\n",
      "torch.Size([67, 4])\n",
      "tensor([0, 2, 2, 2, 1], dtype=torch.int32)\n",
      "torch.Size([67])\n"
     ]
    }
   ],
   "source": [
    "print(data.X[0:5])\n",
    "print(data.X.shape)\n",
    "print(data.Y[0:5])\n",
    "print(data.Y.shape)"
   ]
  },
  {
   "cell_type": "markdown",
   "id": "d4b85881",
   "metadata": {},
   "source": [
    "##### Define the dimensions of the network"
   ]
  },
  {
   "cell_type": "code",
   "execution_count": 68,
   "id": "e122407d",
   "metadata": {},
   "outputs": [],
   "source": [
    "input_dim=4     # how many Variables are in the dataset\n",
    "hidden_dim = 25 # hidden layers\n",
    "output_dim=3    # number of classes"
   ]
  },
  {
   "cell_type": "markdown",
   "id": "81ed4e60",
   "metadata": {},
   "source": [
    "##### Define class for creating simple networks"
   ]
  },
  {
   "cell_type": "code",
   "execution_count": 69,
   "id": "ff84deb3",
   "metadata": {},
   "outputs": [],
   "source": [
    "import torch.nn as nn\n",
    "class Net(nn.Module):\n",
    "    def __init__(self,input,H,output):\n",
    "        super(Net,self).__init__()\n",
    "        self.linear1=nn.Linear(input,H)\n",
    "        self.linear2=nn.Linear(H,output)\n",
    " \n",
    "        \n",
    "    def forward(self,x):\n",
    "        x=torch.sigmoid(self.linear1(x))  \n",
    "        x=self.linear2(x)\n",
    "        return x"
   ]
  },
  {
   "cell_type": "markdown",
   "id": "7389a012",
   "metadata": {},
   "source": [
    "##### Instantiate a classification model instance using the class defined in the last step"
   ]
  },
  {
   "cell_type": "code",
   "execution_count": 70,
   "id": "89e28568",
   "metadata": {},
   "outputs": [],
   "source": [
    "clf=Net(input_dim,hidden_dim,output_dim)"
   ]
  },
  {
   "cell_type": "code",
   "execution_count": 71,
   "id": "0ccf50e4",
   "metadata": {},
   "outputs": [
    {
     "name": "stdout",
     "output_type": "stream",
     "text": [
      "<bound method Module.parameters of Net(\n",
      "  (linear1): Linear(in_features=4, out_features=25, bias=True)\n",
      "  (linear2): Linear(in_features=25, out_features=3, bias=True)\n",
      ")>\n"
     ]
    }
   ],
   "source": [
    "print(clf.parameters)"
   ]
  },
  {
   "cell_type": "markdown",
   "id": "4ca66caa",
   "metadata": {},
   "source": [
    "##### Define the criterion to calculate gradients of parameters and optimizers to update the parameters"
   ]
  },
  {
   "cell_type": "markdown",
   "id": "a970db73",
   "metadata": {},
   "source": [
    "PyTorch has an torch.optim package with various optimization algorithms \n",
    "like SGD (Stochastic Gradient Descent), Adam, RMSprop etc ."
   ]
  },
  {
   "cell_type": "code",
   "execution_count": 72,
   "id": "af2d249b",
   "metadata": {},
   "outputs": [],
   "source": [
    "criterion=nn.CrossEntropyLoss()\n",
    "optimizer=torch.optim.SGD(clf.parameters(), lr=0.1)"
   ]
  },
  {
   "cell_type": "markdown",
   "id": "892a15f1",
   "metadata": {},
   "source": [
    "##### After defining the criterion and optimizer, we are ready to train our model"
   ]
  },
  {
   "cell_type": "code",
   "execution_count": 73,
   "id": "2ad5a3ae",
   "metadata": {},
   "outputs": [],
   "source": [
    "learning_rate = 1e-1\n",
    "loss_list = []\n",
    "for t in range(1000):\n",
    "    y_pred = clf(data.X.float())\n",
    "    loss = criterion(y_pred, data.Y.long())\n",
    "    loss_list.append(loss.item())\n",
    "    clf.zero_grad()\n",
    "    loss.backward()\n",
    "    with torch.no_grad():\n",
    "        for param in clf.parameters():\n",
    "            param -= learning_rate * param.grad"
   ]
  },
  {
   "cell_type": "code",
   "execution_count": 74,
   "id": "d4e43561",
   "metadata": {},
   "outputs": [
    {
     "data": {
      "text/plain": [
       "tensor([0, 2, 2, 2, 1, 2, 1, 1, 1, 1, 2, 1, 2, 1, 2, 1, 0, 1, 1, 2, 0, 2, 2, 1,\n",
       "        1, 1, 0, 1, 0, 0, 2, 0, 2, 1, 2, 1, 0, 0, 1, 1, 2, 2, 0, 1, 2, 2, 0, 2,\n",
       "        2, 1, 2, 0, 1, 2, 0, 0, 2, 1, 1, 1, 0, 0, 1, 0, 2, 2, 1])"
      ]
     },
     "execution_count": 74,
     "metadata": {},
     "output_type": "execute_result"
    }
   ],
   "source": [
    "data.Y.long()"
   ]
  },
  {
   "cell_type": "markdown",
   "id": "edc2334a",
   "metadata": {},
   "source": [
    "##### Optimizing loss curve"
   ]
  },
  {
   "cell_type": "code",
   "execution_count": 75,
   "id": "4d8c0f6c",
   "metadata": {},
   "outputs": [
    {
     "data": {
      "text/plain": [
       "[<matplotlib.lines.Line2D at 0x1d2feed6d00>]"
      ]
     },
     "execution_count": 75,
     "metadata": {},
     "output_type": "execute_result"
    },
    {
     "data": {
      "image/png": "[encoded data removed]",
      "text/plain": [
       "<Figure size 432x288 with 1 Axes>"
      ]
     },
     "metadata": {
      "needs_background": "light"
     },
     "output_type": "display_data"
    }
   ],
   "source": [
    "step = np.linspace(0,1000,1000)\n",
    "plt.plot(step,np.array(loss_list))"
   ]
  },
  {
   "cell_type": "markdown",
   "id": "ef3269b7",
   "metadata": {},
   "source": [
    "##### Defining decision boundaries"
   ]
  },
  {
   "cell_type": "code",
   "execution_count": 76,
   "id": "080551c6",
   "metadata": {},
   "outputs": [
    {
     "data": {
      "text/plain": [
       "(-3.580436957347269, 5.837312633997241)"
      ]
     },
     "execution_count": 76,
     "metadata": {},
     "output_type": "execute_result"
    },
    {
     "data": {
      "image/png": "[encoded data removed]",
      "text/plain": [
       "<Figure size 432x288 with 1 Axes>"
      ]
     },
     "metadata": {
      "needs_background": "light"
     },
     "output_type": "display_data"
    }
   ],
   "source": [
    "params = list(clf.parameters())\n",
    "w = params[0].detach().numpy()[0]\n",
    "b = params[1].detach().numpy()[0]\n",
    "t= params[3].detach().numpy()[0]\n",
    "plt.scatter(X[:, 0], X[:, 1], c=Y,cmap='jet')\n",
    "u = np.linspace(X[:, 0].min(), X[:, 0].max(), 2)\n",
    "plt.plot(u, (0.5-b-w[0]*u)/w[1])\n",
    "plt.plot(u, (0.5-t-w[0]*u)/w[1])\n",
    "plt.xlim(X[:, 0].min()-0.5, X[:, 0].max()+0.5)\n",
    "plt.ylim(X[:, 1].min()-0.5, X[:, 1].max()+0.5)"
   ]
  },
  {
   "cell_type": "markdown",
   "id": "243733c8",
   "metadata": {},
   "source": [
    "##### Predictions with the trained neural network"
   ]
  },
  {
   "cell_type": "code",
   "execution_count": 77,
   "id": "f90a89dc",
   "metadata": {},
   "outputs": [
    {
     "data": {
      "text/plain": [
       "tensor([2, 1, 1, 1, 1, 2, 1, 2, 0, 2, 0, 0, 2, 2, 0, 2, 0, 0, 0, 2, 0, 1, 1, 1,\n",
       "        2, 2, 0, 2, 1, 1, 2, 1, 2])"
      ]
     },
     "execution_count": 77,
     "metadata": {},
     "output_type": "execute_result"
    }
   ],
   "source": [
    "x_val = torch.from_numpy(X_test)\n",
    "z=clf(x_val.float())\n",
    "yhat=torch.max(z.data,1)\n",
    "yhat[1]"
   ]
  },
  {
   "cell_type": "code",
   "execution_count": null,
   "id": "51b00118",
   "metadata": {},
   "outputs": [],
   "source": []
  }
 ],
 "metadata": {
  "kernelspec": {
   "display_name": "Python 3 (ipykernel)",
   "language": "python",
   "name": "python3"
  },
  "language_info": {
   "codemirror_mode": {
    "name": "ipython",
    "version": 3
   },
   "file_extension": ".py",
   "mimetype": "text/x-python",
   "name": "python",
   "nbconvert_exporter": "python",
   "pygments_lexer": "ipython3",
   "version": "3.9.7"
  }
 },
 "nbformat": 4,
 "nbformat_minor": 5
}
